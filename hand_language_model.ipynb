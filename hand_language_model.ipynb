{
  "cells": [
    {
      "cell_type": "markdown",
      "metadata": {
        "id": "c1PW39dMJnuU"
      },
      "source": [
        "# Setup project"
      ]
    },
    {
      "cell_type": "markdown",
      "metadata": {
        "id": "DT0fp4wzGmRl"
      },
      "source": [
        "### Import environment"
      ]
    },
    {
      "cell_type": "code",
      "execution_count": 1,
      "metadata": {
        "id": "bi-onykO4zQC"
      },
      "outputs": [],
      "source": [
        "\n",
        "import tensorflow as tf\n",
        "import json\n",
        "import os\n",
        "import cv2\n",
        "import numpy as np\n",
        "from tensorflow.keras.applications import MobileNetV2\n",
        "from tensorflow.keras.layers import Dense, GlobalAveragePooling2D,Dropout\n",
        "from tensorflow.keras.models import Model, load_model\n",
        "from tensorflow.keras.optimizers import Adam, SGD\n",
        "from tensorflow.keras.preprocessing.image import ImageDataGenerator\n",
        "from tensorflow.keras import layers, Model, optimizers, callbacks,regularizers\n",
        "from tensorflow.keras.callbacks import ModelCheckpoint, EarlyStopping, ModelCheckpoint,ReduceLROnPlateau\n",
        "from keras.callbacks import EarlyStopping, ModelCheckpoint, Callback\n",
        "import matplotlib.pyplot as plt"
      ]
    },
    {
      "cell_type": "markdown",
      "metadata": {
        "id": "klH5nc0xJy5J"
      },
      "source": [
        "# import data ready for training"
      ]
    },
    {
      "cell_type": "markdown",
      "metadata": {
        "id": "u-o03aLr0duj"
      },
      "source": [
        "## Edit data format"
      ]
    },
    {
      "cell_type": "code",
      "execution_count": null,
      "metadata": {
        "id": "Y-F86PN90h-t"
      },
      "outputs": [],
      "source": [
        "import os\n",
        "import shutil\n",
        "import random\n",
        "\n",
        "# Directory where your dataset is located\n",
        "dataset_dir = 'path_to_dataset_directory'\n",
        "train_dir = 'path_to_train_directory'\n",
        "validation_dir = 'path_to_validation_directory'\n",
        "test_dir = 'path_to_test_directory'\n",
        "\n",
        "# Make directories for train, validation, and test sets if they don't exist\n",
        "os.makedirs(train_dir, exist_ok=True)\n",
        "os.makedirs(validation_dir, exist_ok=True)\n",
        "os.makedirs(test_dir, exist_ok=True)\n",
        "\n",
        "# Define the ratio for splitting the data\n",
        "train_ratio = 0.7\n",
        "val_ratio = 0.15\n",
        "test_ratio = 0.15\n",
        "\n",
        "for class_folder in os.listdir(dataset_dir):\n",
        "    class_path = os.path.join(dataset_dir, class_folder)\n",
        "    images = os.listdir(class_path)\n",
        "    random.shuffle(images)\n",
        "\n",
        "    num_images = len(images)\n",
        "    num_train = int(train_ratio * num_images)\n",
        "    num_val = int(val_ratio * num_images)\n",
        "\n",
        "    train_images = images[:num_train]\n",
        "    val_images = images[num_train:num_train + num_val]\n",
        "    test_images = images[num_train + num_val:]\n",
        "\n",
        "    # Move images to the respective directories (train, validation, test)\n",
        "    for img in train_images:\n",
        "        src = os.path.join(class_path, img)\n",
        "        dst = os.path.join(train_dir, class_folder, img)\n",
        "        os.makedirs(os.path.join(train_dir, class_folder), exist_ok=True)\n",
        "        shutil.copy(src, dst)\n",
        "\n",
        "    for img in val_images:\n",
        "        src = os.path.join(class_path, img)\n",
        "        dst = os.path.join(validation_dir, class_folder, img)\n",
        "        os.makedirs(os.path.join(validation_dir, class_folder), exist_ok=True)\n",
        "        shutil.copy(src, dst)\n",
        "\n",
        "    for img in test_images:\n",
        "        src = os.path.join(class_path, img)\n",
        "        dst = os.path.join(test_dir, class_folder, img)\n",
        "        os.makedirs(os.path.join(test_dir, class_folder), exist_ok=True)\n",
        "        shutil.copy(src, dst)"
      ]
    },
    {
      "cell_type": "markdown",
      "metadata": {
        "id": "U-9pVuDwMTEw"
      },
      "source": [
        "## Import and do augmentation"
      ]
    },
    {
      "cell_type": "code",
      "execution_count": 2,
      "metadata": {
        "colab": {
          "base_uri": "https://localhost:8080/"
        },
        "id": "Cj-dGP7C0L0y",
        "outputId": "3247c674-d99d-4f32-bdb4-6ccc451f50a0"
      },
      "outputs": [
        {
          "name": "stdout",
          "output_type": "stream",
          "text": [
            "Found 17654 images belonging to 11 classes.\n",
            "Found 3781 images belonging to 11 classes.\n",
            "Found 3795 images belonging to 11 classes.\n"
          ]
        }
      ],
      "source": [
        "from tensorflow.keras.preprocessing.image import ImageDataGenerator\n",
        "\n",
        "train_dir = '/Users/tai/project for everything/hand_lang/extreme_dataset/train'\n",
        "validation_dir = '/Users/tai/project for everything/hand_lang/extreme_dataset/validation'\n",
        "test_dir = '/Users/tai/project for everything/hand_lang/extreme_dataset/test'\n",
        "\n",
        "# Define batch size and target size\n",
        "batch_size = 32\n",
        "target_size = (224, 224)  # Adjust according to the input size expected by your model\n",
        "\n",
        "# Function to apply blur to images\n",
        "def apply_blur(image):\n",
        "    blurred = cv2.GaussianBlur(image, (5, 5), 0)  # You can adjust the kernel size for the blur effect\n",
        "    return blurred\n",
        "\n",
        "train_datagen = ImageDataGenerator(\n",
        "    rescale=1./255,\n",
        "    rotation_range=20,\n",
        "    width_shift_range=0.2,\n",
        "    height_shift_range=0.2,\n",
        "    zoom_range=0.2,\n",
        "    horizontal_flip=True,\n",
        "    brightness_range=[0.5, 1.5],  # Adjust the range for brightness\n",
        "    channel_shift_range=50,  # This will change the hue\n",
        "    preprocessing_function=apply_blur  # Applying blur using the defined function\n",
        ")\n",
        "# Data normalization for validation and test data (no augmentation)\n",
        "validation_datagen = ImageDataGenerator(rescale=1./255)\n",
        "test_datagen = ImageDataGenerator(rescale=1./255)\n",
        "\n",
        "# Flow training images in batches using train_datagen\n",
        "train_generator = train_datagen.flow_from_directory(\n",
        "    train_dir,\n",
        "    target_size=target_size,\n",
        "    batch_size=batch_size,\n",
        "    class_mode='categorical'\n",
        ")\n",
        "\n",
        "# Flow validation images in batches using validation_datagen\n",
        "validation_generator = validation_datagen.flow_from_directory(\n",
        "    validation_dir,\n",
        "    target_size=target_size,\n",
        "    batch_size=batch_size,\n",
        "    class_mode='categorical'\n",
        ")\n",
        "\n",
        "# Flow test images in batches using test_datagen\n",
        "test_generator = test_datagen.flow_from_directory(\n",
        "    test_dir,\n",
        "    target_size=target_size,\n",
        "    batch_size=batch_size,\n",
        "    class_mode='categorical',\n",
        "    shuffle=False  # To keep the order of the images\n",
        ")"
      ]
    },
    {
      "cell_type": "markdown",
      "metadata": {
        "id": "DTVJyvzbNKaA"
      },
      "source": [
        "# MODEL MobileNetv2"
      ]
    },
    {
      "cell_type": "code",
      "execution_count": 3,
      "metadata": {
        "colab": {
          "base_uri": "https://localhost:8080/"
        },
        "id": "XJiu1t0c4zQK",
        "outputId": "644fe092-ab6f-4907-cc88-51731cc09114"
      },
      "outputs": [
        {
          "name": "stdout",
          "output_type": "stream",
          "text": [
            "Downloading data from https://storage.googleapis.com/tensorflow/keras-applications/mobilenet_v2/mobilenet_v2_weights_tf_dim_ordering_tf_kernels_1.0_224_no_top.h5\n",
            "9406464/9406464 [==============================] - 3s 0us/step\n"
          ]
        }
      ],
      "source": [
        "base_model = tf.keras.applications.MobileNetV2(input_shape=(224,224,3),include_top=False,weights=\"imagenet\")"
      ]
    },
    {
      "cell_type": "code",
      "execution_count": 4,
      "metadata": {
        "id": "212SUCza1K_K"
      },
      "outputs": [],
      "source": [
        "# Freeze the base model layers\n",
        "for layer in base_model.layers:\n",
        "    layer.trainable = False"
      ]
    },
    {
      "cell_type": "code",
      "execution_count": 10,
      "metadata": {
        "id": "f80QPTE44zQK"
      },
      "outputs": [],
      "source": [
        "# base_model.summary()"
      ]
    },
    {
      "cell_type": "code",
      "execution_count": 11,
      "metadata": {
        "colab": {
          "base_uri": "https://localhost:8080/"
        },
        "id": "p2STJy2l2s5i",
        "outputId": "ab4e0a48-0fad-453a-d7ca-96dd2948f55e"
      },
      "outputs": [
        {
          "data": {
            "text/plain": [
              "154"
            ]
          },
          "execution_count": 11,
          "metadata": {},
          "output_type": "execute_result"
        }
      ],
      "source": [
        "len(base_model.layers)"
      ]
    },
    {
      "cell_type": "markdown",
      "metadata": {
        "id": "ASpaM-zoFsOX"
      },
      "source": [
        "### Custom head"
      ]
    },
    {
      "cell_type": "code",
      "execution_count": 5,
      "metadata": {
        "id": "UEDL12Gl4zQL"
      },
      "outputs": [],
      "source": [
        "# Add custom classification layers\n",
        "x = base_model.output\n",
        "x = GlobalAveragePooling2D()(x)\n",
        "x = Dense(1024, activation='relu', kernel_regularizer=regularizers.l2(0.01))(x)\n",
        "x = Dropout(0.5)(x)  # Adding dropout\n",
        "num_class = 11\n",
        "predictions = Dense(num_class, activation='softmax')(x)  # 'num_classes' should match your dataset's classes\n",
        "model = Model(inputs=base_model.input, outputs=predictions)\n",
        "\n",
        "# model.summary()"
      ]
    },
    {
      "cell_type": "code",
      "execution_count": 6,
      "metadata": {
        "colab": {
          "base_uri": "https://localhost:8080/"
        },
        "id": "IpOj3tPz2vl8",
        "outputId": "c1cee424-96d2-4133-fb48-e99bb78f458e"
      },
      "outputs": [
        {
          "data": {
            "text/plain": [
              "158"
            ]
          },
          "execution_count": 6,
          "metadata": {},
          "output_type": "execute_result"
        }
      ],
      "source": [
        "len(model.layers)"
      ]
    },
    {
      "cell_type": "markdown",
      "metadata": {
        "id": "w7GZV1AaFxos"
      },
      "source": [
        "### Training Function"
      ]
    },
    {
      "cell_type": "code",
      "execution_count": 7,
      "metadata": {
        "id": "iMsPJ4NIF50U"
      },
      "outputs": [],
      "source": [
        "# Define a custom callback to save history every epoch\n",
        "class SaveHistory(Callback):\n",
        "    def __init__(self, filename):\n",
        "        self.filename = filename\n",
        "\n",
        "    def on_epoch_end(self, epoch, logs=None):\n",
        "        if logs is None:\n",
        "            logs = {}\n",
        "\n",
        "        # Load existing history if the file exists\n",
        "        if os.path.exists(self.filename):\n",
        "            with open(self.filename, 'r') as history_file:\n",
        "                existing_history = json.load(history_file)\n",
        "            for key, value in existing_history.items():\n",
        "                self.model.history.history.setdefault(key, []).extend(value)\n",
        "\n",
        "        # Append new data to the history\n",
        "        self.model.history.epoch.append(epoch)\n",
        "        self.model.history.history.setdefault('loss', []).append(logs.get('loss'))\n",
        "        self.model.history.history.setdefault('accuracy', []).append(logs.get('accuracy'))\n",
        "        self.model.history.history.setdefault('val_loss', []).append(logs.get('val_loss'))\n",
        "        self.model.history.history.setdefault('val_accuracy', []).append(logs.get('val_accuracy'))\n",
        "\n",
        "        # Save the updated history to a JSON file\n",
        "        with open(self.filename, 'w') as history_file:\n",
        "            json.dump(self.model.history.history, history_file)\n",
        "\n",
        "# Define early stopping callback\n",
        "early_stopping = EarlyStopping(\n",
        "    monitor='val_loss',\n",
        "    patience=3,\n",
        "    restore_best_weights=True\n",
        ")\n",
        "\n",
        "# Define the checkpoint callback to save model checkpoints every 5 epochs\n",
        "checkpoint_callback = ModelCheckpoint(\n",
        "    filepath='/content/drive/My Drive/trained model/mobilenetv2.h5',\n",
        "    save_best_only=True,\n",
        "    monitor='val_loss',\n",
        "    mode='min',\n",
        "    save_freq=3,\n",
        "    verbose=1\n",
        ")\n",
        "\n",
        "# Example of reducing learning rate on a plateau\n",
        "reduce_lr = ReduceLROnPlateau(monitor='val_loss', factor=0.2, patience=2, min_lr=0.000001)\n"
      ]
    },
    {
      "cell_type": "markdown",
      "metadata": {
        "id": "dHvFJUH6GHUX"
      },
      "source": [
        "### Fine Tuning"
      ]
    },
    {
      "cell_type": "code",
      "execution_count": 8,
      "metadata": {
        "id": "293YMVR33LLq"
      },
      "outputs": [],
      "source": [
        "model.trainable = True"
      ]
    },
    {
      "cell_type": "code",
      "execution_count": 9,
      "metadata": {
        "id": "am1Mgrko3Lz9"
      },
      "outputs": [],
      "source": [
        "for layer in model.layers[:80]:\n",
        "  layer.trainable=False"
      ]
    },
    {
      "cell_type": "code",
      "execution_count": 17,
      "metadata": {
        "colab": {
          "base_uri": "https://localhost:8080/"
        },
        "id": "nfJHHlFid0t_",
        "outputId": "b0d606c3-11a0-4f1e-89a6-e23dd0e0eb20"
      },
      "outputs": [
        {
          "name": "stdout",
          "output_type": "stream",
          "text": [
            "Layer: input_1 - Trainable: False\n",
            "Layer: Conv1 - Trainable: False\n",
            "Layer: bn_Conv1 - Trainable: False\n",
            "Layer: Conv1_relu - Trainable: False\n",
            "Layer: expanded_conv_depthwise - Trainable: False\n",
            "Layer: expanded_conv_depthwise_BN - Trainable: False\n",
            "Layer: expanded_conv_depthwise_relu - Trainable: False\n",
            "Layer: expanded_conv_project - Trainable: False\n",
            "Layer: expanded_conv_project_BN - Trainable: False\n",
            "Layer: block_1_expand - Trainable: False\n",
            "Layer: block_1_expand_BN - Trainable: False\n",
            "Layer: block_1_expand_relu - Trainable: False\n",
            "Layer: block_1_pad - Trainable: False\n",
            "Layer: block_1_depthwise - Trainable: False\n",
            "Layer: block_1_depthwise_BN - Trainable: False\n",
            "Layer: block_1_depthwise_relu - Trainable: False\n",
            "Layer: block_1_project - Trainable: False\n",
            "Layer: block_1_project_BN - Trainable: False\n",
            "Layer: block_2_expand - Trainable: False\n",
            "Layer: block_2_expand_BN - Trainable: False\n",
            "Layer: block_2_expand_relu - Trainable: False\n",
            "Layer: block_2_depthwise - Trainable: False\n",
            "Layer: block_2_depthwise_BN - Trainable: False\n",
            "Layer: block_2_depthwise_relu - Trainable: False\n",
            "Layer: block_2_project - Trainable: False\n",
            "Layer: block_2_project_BN - Trainable: False\n",
            "Layer: block_2_add - Trainable: False\n",
            "Layer: block_3_expand - Trainable: False\n",
            "Layer: block_3_expand_BN - Trainable: False\n",
            "Layer: block_3_expand_relu - Trainable: False\n",
            "Layer: block_3_pad - Trainable: False\n",
            "Layer: block_3_depthwise - Trainable: False\n",
            "Layer: block_3_depthwise_BN - Trainable: False\n",
            "Layer: block_3_depthwise_relu - Trainable: False\n",
            "Layer: block_3_project - Trainable: False\n",
            "Layer: block_3_project_BN - Trainable: False\n",
            "Layer: block_4_expand - Trainable: False\n",
            "Layer: block_4_expand_BN - Trainable: False\n",
            "Layer: block_4_expand_relu - Trainable: False\n",
            "Layer: block_4_depthwise - Trainable: False\n",
            "Layer: block_4_depthwise_BN - Trainable: False\n",
            "Layer: block_4_depthwise_relu - Trainable: False\n",
            "Layer: block_4_project - Trainable: False\n",
            "Layer: block_4_project_BN - Trainable: False\n",
            "Layer: block_4_add - Trainable: False\n",
            "Layer: block_5_expand - Trainable: False\n",
            "Layer: block_5_expand_BN - Trainable: False\n",
            "Layer: block_5_expand_relu - Trainable: False\n",
            "Layer: block_5_depthwise - Trainable: False\n",
            "Layer: block_5_depthwise_BN - Trainable: False\n",
            "Layer: block_5_depthwise_relu - Trainable: False\n",
            "Layer: block_5_project - Trainable: False\n",
            "Layer: block_5_project_BN - Trainable: False\n",
            "Layer: block_5_add - Trainable: False\n",
            "Layer: block_6_expand - Trainable: False\n",
            "Layer: block_6_expand_BN - Trainable: False\n",
            "Layer: block_6_expand_relu - Trainable: False\n",
            "Layer: block_6_pad - Trainable: False\n",
            "Layer: block_6_depthwise - Trainable: False\n",
            "Layer: block_6_depthwise_BN - Trainable: False\n",
            "Layer: block_6_depthwise_relu - Trainable: False\n",
            "Layer: block_6_project - Trainable: False\n",
            "Layer: block_6_project_BN - Trainable: False\n",
            "Layer: block_7_expand - Trainable: False\n",
            "Layer: block_7_expand_BN - Trainable: False\n",
            "Layer: block_7_expand_relu - Trainable: False\n",
            "Layer: block_7_depthwise - Trainable: False\n",
            "Layer: block_7_depthwise_BN - Trainable: False\n",
            "Layer: block_7_depthwise_relu - Trainable: False\n",
            "Layer: block_7_project - Trainable: False\n",
            "Layer: block_7_project_BN - Trainable: False\n",
            "Layer: block_7_add - Trainable: False\n",
            "Layer: block_8_expand - Trainable: False\n",
            "Layer: block_8_expand_BN - Trainable: False\n",
            "Layer: block_8_expand_relu - Trainable: False\n",
            "Layer: block_8_depthwise - Trainable: False\n",
            "Layer: block_8_depthwise_BN - Trainable: False\n",
            "Layer: block_8_depthwise_relu - Trainable: False\n",
            "Layer: block_8_project - Trainable: False\n",
            "Layer: block_8_project_BN - Trainable: False\n",
            "Layer: block_8_add - Trainable: True\n",
            "Layer: block_9_expand - Trainable: True\n",
            "Layer: block_9_expand_BN - Trainable: True\n",
            "Layer: block_9_expand_relu - Trainable: True\n",
            "Layer: block_9_depthwise - Trainable: True\n",
            "Layer: block_9_depthwise_BN - Trainable: True\n",
            "Layer: block_9_depthwise_relu - Trainable: True\n",
            "Layer: block_9_project - Trainable: True\n",
            "Layer: block_9_project_BN - Trainable: True\n",
            "Layer: block_9_add - Trainable: True\n",
            "Layer: block_10_expand - Trainable: True\n",
            "Layer: block_10_expand_BN - Trainable: True\n",
            "Layer: block_10_expand_relu - Trainable: True\n",
            "Layer: block_10_depthwise - Trainable: True\n",
            "Layer: block_10_depthwise_BN - Trainable: True\n",
            "Layer: block_10_depthwise_relu - Trainable: True\n",
            "Layer: block_10_project - Trainable: True\n",
            "Layer: block_10_project_BN - Trainable: True\n",
            "Layer: block_11_expand - Trainable: True\n",
            "Layer: block_11_expand_BN - Trainable: True\n",
            "Layer: block_11_expand_relu - Trainable: True\n",
            "Layer: block_11_depthwise - Trainable: True\n",
            "Layer: block_11_depthwise_BN - Trainable: True\n",
            "Layer: block_11_depthwise_relu - Trainable: True\n",
            "Layer: block_11_project - Trainable: True\n",
            "Layer: block_11_project_BN - Trainable: True\n",
            "Layer: block_11_add - Trainable: True\n",
            "Layer: block_12_expand - Trainable: True\n",
            "Layer: block_12_expand_BN - Trainable: True\n",
            "Layer: block_12_expand_relu - Trainable: True\n",
            "Layer: block_12_depthwise - Trainable: True\n",
            "Layer: block_12_depthwise_BN - Trainable: True\n",
            "Layer: block_12_depthwise_relu - Trainable: True\n",
            "Layer: block_12_project - Trainable: True\n",
            "Layer: block_12_project_BN - Trainable: True\n",
            "Layer: block_12_add - Trainable: True\n",
            "Layer: block_13_expand - Trainable: True\n",
            "Layer: block_13_expand_BN - Trainable: True\n",
            "Layer: block_13_expand_relu - Trainable: True\n",
            "Layer: block_13_pad - Trainable: True\n",
            "Layer: block_13_depthwise - Trainable: True\n",
            "Layer: block_13_depthwise_BN - Trainable: True\n",
            "Layer: block_13_depthwise_relu - Trainable: True\n",
            "Layer: block_13_project - Trainable: True\n",
            "Layer: block_13_project_BN - Trainable: True\n",
            "Layer: block_14_expand - Trainable: True\n",
            "Layer: block_14_expand_BN - Trainable: True\n",
            "Layer: block_14_expand_relu - Trainable: True\n",
            "Layer: block_14_depthwise - Trainable: True\n",
            "Layer: block_14_depthwise_BN - Trainable: True\n",
            "Layer: block_14_depthwise_relu - Trainable: True\n",
            "Layer: block_14_project - Trainable: True\n",
            "Layer: block_14_project_BN - Trainable: True\n",
            "Layer: block_14_add - Trainable: True\n",
            "Layer: block_15_expand - Trainable: True\n",
            "Layer: block_15_expand_BN - Trainable: True\n",
            "Layer: block_15_expand_relu - Trainable: True\n",
            "Layer: block_15_depthwise - Trainable: True\n",
            "Layer: block_15_depthwise_BN - Trainable: True\n",
            "Layer: block_15_depthwise_relu - Trainable: True\n",
            "Layer: block_15_project - Trainable: True\n",
            "Layer: block_15_project_BN - Trainable: True\n",
            "Layer: block_15_add - Trainable: True\n",
            "Layer: block_16_expand - Trainable: True\n",
            "Layer: block_16_expand_BN - Trainable: True\n",
            "Layer: block_16_expand_relu - Trainable: True\n",
            "Layer: block_16_depthwise - Trainable: True\n",
            "Layer: block_16_depthwise_BN - Trainable: True\n",
            "Layer: block_16_depthwise_relu - Trainable: True\n",
            "Layer: block_16_project - Trainable: True\n",
            "Layer: block_16_project_BN - Trainable: True\n",
            "Layer: Conv_1 - Trainable: True\n",
            "Layer: Conv_1_bn - Trainable: True\n",
            "Layer: out_relu - Trainable: True\n",
            "Layer: global_average_pooling2d - Trainable: True\n",
            "Layer: dense - Trainable: True\n",
            "Layer: dropout - Trainable: True\n",
            "Layer: dense_1 - Trainable: True\n"
          ]
        }
      ],
      "source": [
        "# To see which layers are trainable\n",
        "for layer in model.layers:\n",
        "    print(f\"Layer: {layer.name} - Trainable: {layer.trainable}\")"
      ]
    },
    {
      "cell_type": "code",
      "execution_count": 6,
      "metadata": {
        "id": "bugF-Pmk3Lxl"
      },
      "outputs": [],
      "source": [
        "#load model that already train\n",
        "model = tf.keras.models.load_model('/content/drive/My Drive/hand_language_model/MobileNetV2_10epoch_with_finetune.h5')"
      ]
    },
    {
      "cell_type": "code",
      "execution_count": 10,
      "metadata": {
        "id": "HFQSTjLI3LvE"
      },
      "outputs": [
        {
          "name": "stderr",
          "output_type": "stream",
          "text": [
            "WARNING:absl:At this time, the v2.11+ optimizer `tf.keras.optimizers.Adam` runs slowly on M1/M2 Macs, please use the legacy Keras optimizer instead, located at `tf.keras.optimizers.legacy.Adam`.\n"
          ]
        }
      ],
      "source": [
        "# Define the custom history-saving callback\n",
        "# history_saver = SaveHistory('/content/drive/MyDrive/hand_language_model/mobilenetv2_history.json')\n",
        "\n",
        "# Reduce the learning rate\n",
        "model.compile(optimizer=Adam(learning_rate=0.0001), loss='categorical_crossentropy', metrics=['accuracy'])\n",
        "\n",
        "# Add the custom callback to the list of callbacks during training\n",
        "# callbacks = [early_stopping, checkpoint_callback, history_saver]"
      ]
    },
    {
      "cell_type": "code",
      "execution_count": 11,
      "metadata": {
        "colab": {
          "base_uri": "https://localhost:8080/"
        },
        "id": "D7B5Pawo3LsG",
        "outputId": "ab452d21-864d-40c8-a2e9-60b40bc98ae8"
      },
      "outputs": [
        {
          "name": "stderr",
          "output_type": "stream",
          "text": [
            "/var/folders/kc/w9l6xj056fn5vq583fjcnqg00000gn/T/ipykernel_26407/1582212641.py:5: UserWarning: `Model.fit_generator` is deprecated and will be removed in a future version. Please use `Model.fit`, which supports generators.\n",
            "  history = model.fit_generator(\n"
          ]
        },
        {
          "name": "stdout",
          "output_type": "stream",
          "text": [
            "Epoch 1/10\n",
            "551/551 [==============================] - 280s 504ms/step - loss: 8.6614 - accuracy: 0.7854 - val_loss: 5.3581 - val_accuracy: 0.9179 - lr: 1.0000e-04\n",
            "Epoch 2/10\n",
            "242/551 [============>.................] - ETA: 2:47 - loss: 4.3050 - accuracy: 0.9456"
          ]
        },
        {
          "ename": "KeyboardInterrupt",
          "evalue": "",
          "output_type": "error",
          "traceback": [
            "\u001b[0;31m---------------------------------------------------------------------------\u001b[0m",
            "\u001b[0;31mKeyboardInterrupt\u001b[0m                         Traceback (most recent call last)",
            "\u001b[1;32m/Users/tai/project for everything/hand_lang/hand_language_model.ipynb Cell 25\u001b[0m line \u001b[0;36m5\n\u001b[1;32m      <a href='vscode-notebook-cell:/Users/tai/project%20for%20everything/hand_lang/hand_language_model.ipynb#X41sZmlsZQ%3D%3D?line=1'>2</a>\u001b[0m num_train_samples \u001b[39m=\u001b[39m \u001b[39mlen\u001b[39m(train_generator\u001b[39m.\u001b[39mfilenames)  \u001b[39m# total number of training samples\u001b[39;00m\n\u001b[1;32m      <a href='vscode-notebook-cell:/Users/tai/project%20for%20everything/hand_lang/hand_language_model.ipynb#X41sZmlsZQ%3D%3D?line=2'>3</a>\u001b[0m num_val_samples \u001b[39m=\u001b[39m \u001b[39mlen\u001b[39m(validation_generator\u001b[39m.\u001b[39mfilenames)  \u001b[39m# total number of validation samples\u001b[39;00m\n\u001b[0;32m----> <a href='vscode-notebook-cell:/Users/tai/project%20for%20everything/hand_lang/hand_language_model.ipynb#X41sZmlsZQ%3D%3D?line=4'>5</a>\u001b[0m history \u001b[39m=\u001b[39m model\u001b[39m.\u001b[39mfit_generator(\n\u001b[1;32m      <a href='vscode-notebook-cell:/Users/tai/project%20for%20everything/hand_lang/hand_language_model.ipynb#X41sZmlsZQ%3D%3D?line=5'>6</a>\u001b[0m     train_generator,\n\u001b[1;32m      <a href='vscode-notebook-cell:/Users/tai/project%20for%20everything/hand_lang/hand_language_model.ipynb#X41sZmlsZQ%3D%3D?line=6'>7</a>\u001b[0m     steps_per_epoch\u001b[39m=\u001b[39mnum_train_samples \u001b[39m/\u001b[39m\u001b[39m/\u001b[39m batch_size,\n\u001b[1;32m      <a href='vscode-notebook-cell:/Users/tai/project%20for%20everything/hand_lang/hand_language_model.ipynb#X41sZmlsZQ%3D%3D?line=7'>8</a>\u001b[0m     epochs\u001b[39m=\u001b[39m\u001b[39m10\u001b[39m,  \u001b[39m# Train for additional epochs\u001b[39;00m\n\u001b[1;32m      <a href='vscode-notebook-cell:/Users/tai/project%20for%20everything/hand_lang/hand_language_model.ipynb#X41sZmlsZQ%3D%3D?line=8'>9</a>\u001b[0m     validation_data\u001b[39m=\u001b[39mvalidation_generator,\n\u001b[1;32m     <a href='vscode-notebook-cell:/Users/tai/project%20for%20everything/hand_lang/hand_language_model.ipynb#X41sZmlsZQ%3D%3D?line=9'>10</a>\u001b[0m     validation_steps\u001b[39m=\u001b[39mnum_val_samples \u001b[39m/\u001b[39m\u001b[39m/\u001b[39m batch_size,\n\u001b[1;32m     <a href='vscode-notebook-cell:/Users/tai/project%20for%20everything/hand_lang/hand_language_model.ipynb#X41sZmlsZQ%3D%3D?line=10'>11</a>\u001b[0m     callbacks\u001b[39m=\u001b[39m[early_stopping,reduce_lr]\n\u001b[1;32m     <a href='vscode-notebook-cell:/Users/tai/project%20for%20everything/hand_lang/hand_language_model.ipynb#X41sZmlsZQ%3D%3D?line=11'>12</a>\u001b[0m )\n",
            "File \u001b[0;32m~/anaconda3/lib/python3.11/site-packages/keras/src/engine/training.py:2889\u001b[0m, in \u001b[0;36mModel.fit_generator\u001b[0;34m(self, generator, steps_per_epoch, epochs, verbose, callbacks, validation_data, validation_steps, validation_freq, class_weight, max_queue_size, workers, use_multiprocessing, shuffle, initial_epoch)\u001b[0m\n\u001b[1;32m   2877\u001b[0m \u001b[39m\u001b[39m\u001b[39m\"\"\"Fits the model on data yielded batch-by-batch by a Python generator.\u001b[39;00m\n\u001b[1;32m   2878\u001b[0m \n\u001b[1;32m   2879\u001b[0m \u001b[39mDEPRECATED:\u001b[39;00m\n\u001b[1;32m   2880\u001b[0m \u001b[39m  `Model.fit` now supports generators, so there is no longer any need to\u001b[39;00m\n\u001b[1;32m   2881\u001b[0m \u001b[39m  use this endpoint.\u001b[39;00m\n\u001b[1;32m   2882\u001b[0m \u001b[39m\"\"\"\u001b[39;00m\n\u001b[1;32m   2883\u001b[0m warnings\u001b[39m.\u001b[39mwarn(\n\u001b[1;32m   2884\u001b[0m     \u001b[39m\"\u001b[39m\u001b[39m`Model.fit_generator` is deprecated and \u001b[39m\u001b[39m\"\u001b[39m\n\u001b[1;32m   2885\u001b[0m     \u001b[39m\"\u001b[39m\u001b[39mwill be removed in a future version. \u001b[39m\u001b[39m\"\u001b[39m\n\u001b[1;32m   2886\u001b[0m     \u001b[39m\"\u001b[39m\u001b[39mPlease use `Model.fit`, which supports generators.\u001b[39m\u001b[39m\"\u001b[39m,\n\u001b[1;32m   2887\u001b[0m     stacklevel\u001b[39m=\u001b[39m\u001b[39m2\u001b[39m,\n\u001b[1;32m   2888\u001b[0m )\n\u001b[0;32m-> 2889\u001b[0m \u001b[39mreturn\u001b[39;00m \u001b[39mself\u001b[39m\u001b[39m.\u001b[39mfit(\n\u001b[1;32m   2890\u001b[0m     generator,\n\u001b[1;32m   2891\u001b[0m     steps_per_epoch\u001b[39m=\u001b[39msteps_per_epoch,\n\u001b[1;32m   2892\u001b[0m     epochs\u001b[39m=\u001b[39mepochs,\n\u001b[1;32m   2893\u001b[0m     verbose\u001b[39m=\u001b[39mverbose,\n\u001b[1;32m   2894\u001b[0m     callbacks\u001b[39m=\u001b[39mcallbacks,\n\u001b[1;32m   2895\u001b[0m     validation_data\u001b[39m=\u001b[39mvalidation_data,\n\u001b[1;32m   2896\u001b[0m     validation_steps\u001b[39m=\u001b[39mvalidation_steps,\n\u001b[1;32m   2897\u001b[0m     validation_freq\u001b[39m=\u001b[39mvalidation_freq,\n\u001b[1;32m   2898\u001b[0m     class_weight\u001b[39m=\u001b[39mclass_weight,\n\u001b[1;32m   2899\u001b[0m     max_queue_size\u001b[39m=\u001b[39mmax_queue_size,\n\u001b[1;32m   2900\u001b[0m     workers\u001b[39m=\u001b[39mworkers,\n\u001b[1;32m   2901\u001b[0m     use_multiprocessing\u001b[39m=\u001b[39muse_multiprocessing,\n\u001b[1;32m   2902\u001b[0m     shuffle\u001b[39m=\u001b[39mshuffle,\n\u001b[1;32m   2903\u001b[0m     initial_epoch\u001b[39m=\u001b[39minitial_epoch,\n\u001b[1;32m   2904\u001b[0m )\n",
            "File \u001b[0;32m~/anaconda3/lib/python3.11/site-packages/keras/src/utils/traceback_utils.py:65\u001b[0m, in \u001b[0;36mfilter_traceback.<locals>.error_handler\u001b[0;34m(*args, **kwargs)\u001b[0m\n\u001b[1;32m     63\u001b[0m filtered_tb \u001b[39m=\u001b[39m \u001b[39mNone\u001b[39;00m\n\u001b[1;32m     64\u001b[0m \u001b[39mtry\u001b[39;00m:\n\u001b[0;32m---> 65\u001b[0m     \u001b[39mreturn\u001b[39;00m fn(\u001b[39m*\u001b[39margs, \u001b[39m*\u001b[39m\u001b[39m*\u001b[39mkwargs)\n\u001b[1;32m     66\u001b[0m \u001b[39mexcept\u001b[39;00m \u001b[39mException\u001b[39;00m \u001b[39mas\u001b[39;00m e:\n\u001b[1;32m     67\u001b[0m     filtered_tb \u001b[39m=\u001b[39m _process_traceback_frames(e\u001b[39m.\u001b[39m__traceback__)\n",
            "File \u001b[0;32m~/anaconda3/lib/python3.11/site-packages/keras/src/engine/training.py:1783\u001b[0m, in \u001b[0;36mModel.fit\u001b[0;34m(self, x, y, batch_size, epochs, verbose, callbacks, validation_split, validation_data, shuffle, class_weight, sample_weight, initial_epoch, steps_per_epoch, validation_steps, validation_batch_size, validation_freq, max_queue_size, workers, use_multiprocessing)\u001b[0m\n\u001b[1;32m   1775\u001b[0m \u001b[39mwith\u001b[39;00m tf\u001b[39m.\u001b[39mprofiler\u001b[39m.\u001b[39mexperimental\u001b[39m.\u001b[39mTrace(\n\u001b[1;32m   1776\u001b[0m     \u001b[39m\"\u001b[39m\u001b[39mtrain\u001b[39m\u001b[39m\"\u001b[39m,\n\u001b[1;32m   1777\u001b[0m     epoch_num\u001b[39m=\u001b[39mepoch,\n\u001b[0;32m   (...)\u001b[0m\n\u001b[1;32m   1780\u001b[0m     _r\u001b[39m=\u001b[39m\u001b[39m1\u001b[39m,\n\u001b[1;32m   1781\u001b[0m ):\n\u001b[1;32m   1782\u001b[0m     callbacks\u001b[39m.\u001b[39mon_train_batch_begin(step)\n\u001b[0;32m-> 1783\u001b[0m     tmp_logs \u001b[39m=\u001b[39m \u001b[39mself\u001b[39m\u001b[39m.\u001b[39mtrain_function(iterator)\n\u001b[1;32m   1784\u001b[0m     \u001b[39mif\u001b[39;00m data_handler\u001b[39m.\u001b[39mshould_sync:\n\u001b[1;32m   1785\u001b[0m         context\u001b[39m.\u001b[39masync_wait()\n",
            "File \u001b[0;32m~/anaconda3/lib/python3.11/site-packages/tensorflow/python/util/traceback_utils.py:150\u001b[0m, in \u001b[0;36mfilter_traceback.<locals>.error_handler\u001b[0;34m(*args, **kwargs)\u001b[0m\n\u001b[1;32m    148\u001b[0m filtered_tb \u001b[39m=\u001b[39m \u001b[39mNone\u001b[39;00m\n\u001b[1;32m    149\u001b[0m \u001b[39mtry\u001b[39;00m:\n\u001b[0;32m--> 150\u001b[0m   \u001b[39mreturn\u001b[39;00m fn(\u001b[39m*\u001b[39margs, \u001b[39m*\u001b[39m\u001b[39m*\u001b[39mkwargs)\n\u001b[1;32m    151\u001b[0m \u001b[39mexcept\u001b[39;00m \u001b[39mException\u001b[39;00m \u001b[39mas\u001b[39;00m e:\n\u001b[1;32m    152\u001b[0m   filtered_tb \u001b[39m=\u001b[39m _process_traceback_frames(e\u001b[39m.\u001b[39m__traceback__)\n",
            "File \u001b[0;32m~/anaconda3/lib/python3.11/site-packages/tensorflow/python/eager/polymorphic_function/polymorphic_function.py:831\u001b[0m, in \u001b[0;36mFunction.__call__\u001b[0;34m(self, *args, **kwds)\u001b[0m\n\u001b[1;32m    828\u001b[0m compiler \u001b[39m=\u001b[39m \u001b[39m\"\u001b[39m\u001b[39mxla\u001b[39m\u001b[39m\"\u001b[39m \u001b[39mif\u001b[39;00m \u001b[39mself\u001b[39m\u001b[39m.\u001b[39m_jit_compile \u001b[39melse\u001b[39;00m \u001b[39m\"\u001b[39m\u001b[39mnonXla\u001b[39m\u001b[39m\"\u001b[39m\n\u001b[1;32m    830\u001b[0m \u001b[39mwith\u001b[39;00m OptionalXlaContext(\u001b[39mself\u001b[39m\u001b[39m.\u001b[39m_jit_compile):\n\u001b[0;32m--> 831\u001b[0m   result \u001b[39m=\u001b[39m \u001b[39mself\u001b[39m\u001b[39m.\u001b[39m_call(\u001b[39m*\u001b[39margs, \u001b[39m*\u001b[39m\u001b[39m*\u001b[39mkwds)\n\u001b[1;32m    833\u001b[0m new_tracing_count \u001b[39m=\u001b[39m \u001b[39mself\u001b[39m\u001b[39m.\u001b[39mexperimental_get_tracing_count()\n\u001b[1;32m    834\u001b[0m without_tracing \u001b[39m=\u001b[39m (tracing_count \u001b[39m==\u001b[39m new_tracing_count)\n",
            "File \u001b[0;32m~/anaconda3/lib/python3.11/site-packages/tensorflow/python/eager/polymorphic_function/polymorphic_function.py:867\u001b[0m, in \u001b[0;36mFunction._call\u001b[0;34m(self, *args, **kwds)\u001b[0m\n\u001b[1;32m    864\u001b[0m   \u001b[39mself\u001b[39m\u001b[39m.\u001b[39m_lock\u001b[39m.\u001b[39mrelease()\n\u001b[1;32m    865\u001b[0m   \u001b[39m# In this case we have created variables on the first call, so we run the\u001b[39;00m\n\u001b[1;32m    866\u001b[0m   \u001b[39m# defunned version which is guaranteed to never create variables.\u001b[39;00m\n\u001b[0;32m--> 867\u001b[0m   \u001b[39mreturn\u001b[39;00m tracing_compilation\u001b[39m.\u001b[39mcall_function(\n\u001b[1;32m    868\u001b[0m       args, kwds, \u001b[39mself\u001b[39m\u001b[39m.\u001b[39m_no_variable_creation_config\n\u001b[1;32m    869\u001b[0m   )\n\u001b[1;32m    870\u001b[0m \u001b[39melif\u001b[39;00m \u001b[39mself\u001b[39m\u001b[39m.\u001b[39m_variable_creation_config \u001b[39mis\u001b[39;00m \u001b[39mnot\u001b[39;00m \u001b[39mNone\u001b[39;00m:\n\u001b[1;32m    871\u001b[0m   \u001b[39m# Release the lock early so that multiple threads can perform the call\u001b[39;00m\n\u001b[1;32m    872\u001b[0m   \u001b[39m# in parallel.\u001b[39;00m\n\u001b[1;32m    873\u001b[0m   \u001b[39mself\u001b[39m\u001b[39m.\u001b[39m_lock\u001b[39m.\u001b[39mrelease()\n",
            "File \u001b[0;32m~/anaconda3/lib/python3.11/site-packages/tensorflow/python/eager/polymorphic_function/tracing_compilation.py:139\u001b[0m, in \u001b[0;36mcall_function\u001b[0;34m(args, kwargs, tracing_options)\u001b[0m\n\u001b[1;32m    137\u001b[0m bound_args \u001b[39m=\u001b[39m function\u001b[39m.\u001b[39mfunction_type\u001b[39m.\u001b[39mbind(\u001b[39m*\u001b[39margs, \u001b[39m*\u001b[39m\u001b[39m*\u001b[39mkwargs)\n\u001b[1;32m    138\u001b[0m flat_inputs \u001b[39m=\u001b[39m function\u001b[39m.\u001b[39mfunction_type\u001b[39m.\u001b[39munpack_inputs(bound_args)\n\u001b[0;32m--> 139\u001b[0m \u001b[39mreturn\u001b[39;00m function\u001b[39m.\u001b[39m_call_flat(  \u001b[39m# pylint: disable=protected-access\u001b[39;00m\n\u001b[1;32m    140\u001b[0m     flat_inputs, captured_inputs\u001b[39m=\u001b[39mfunction\u001b[39m.\u001b[39mcaptured_inputs\n\u001b[1;32m    141\u001b[0m )\n",
            "File \u001b[0;32m~/anaconda3/lib/python3.11/site-packages/tensorflow/python/eager/polymorphic_function/concrete_function.py:1264\u001b[0m, in \u001b[0;36mConcreteFunction._call_flat\u001b[0;34m(self, tensor_inputs, captured_inputs)\u001b[0m\n\u001b[1;32m   1260\u001b[0m possible_gradient_type \u001b[39m=\u001b[39m gradients_util\u001b[39m.\u001b[39mPossibleTapeGradientTypes(args)\n\u001b[1;32m   1261\u001b[0m \u001b[39mif\u001b[39;00m (possible_gradient_type \u001b[39m==\u001b[39m gradients_util\u001b[39m.\u001b[39mPOSSIBLE_GRADIENT_TYPES_NONE\n\u001b[1;32m   1262\u001b[0m     \u001b[39mand\u001b[39;00m executing_eagerly):\n\u001b[1;32m   1263\u001b[0m   \u001b[39m# No tape is watching; skip to running the function.\u001b[39;00m\n\u001b[0;32m-> 1264\u001b[0m   \u001b[39mreturn\u001b[39;00m \u001b[39mself\u001b[39m\u001b[39m.\u001b[39m_inference_function\u001b[39m.\u001b[39mflat_call(args)\n\u001b[1;32m   1265\u001b[0m forward_backward \u001b[39m=\u001b[39m \u001b[39mself\u001b[39m\u001b[39m.\u001b[39m_select_forward_and_backward_functions(\n\u001b[1;32m   1266\u001b[0m     args,\n\u001b[1;32m   1267\u001b[0m     possible_gradient_type,\n\u001b[1;32m   1268\u001b[0m     executing_eagerly)\n\u001b[1;32m   1269\u001b[0m forward_function, args_with_tangents \u001b[39m=\u001b[39m forward_backward\u001b[39m.\u001b[39mforward()\n",
            "File \u001b[0;32m~/anaconda3/lib/python3.11/site-packages/tensorflow/python/eager/polymorphic_function/atomic_function.py:217\u001b[0m, in \u001b[0;36mAtomicFunction.flat_call\u001b[0;34m(self, args)\u001b[0m\n\u001b[1;32m    215\u001b[0m \u001b[39mdef\u001b[39;00m \u001b[39mflat_call\u001b[39m(\u001b[39mself\u001b[39m, args: Sequence[core\u001b[39m.\u001b[39mTensor]) \u001b[39m-\u001b[39m\u001b[39m>\u001b[39m Any:\n\u001b[1;32m    216\u001b[0m \u001b[39m  \u001b[39m\u001b[39m\"\"\"Calls with tensor inputs and returns the structured output.\"\"\"\u001b[39;00m\n\u001b[0;32m--> 217\u001b[0m   flat_outputs \u001b[39m=\u001b[39m \u001b[39mself\u001b[39m(\u001b[39m*\u001b[39margs)\n\u001b[1;32m    218\u001b[0m   \u001b[39mreturn\u001b[39;00m \u001b[39mself\u001b[39m\u001b[39m.\u001b[39mfunction_type\u001b[39m.\u001b[39mpack_output(flat_outputs)\n",
            "File \u001b[0;32m~/anaconda3/lib/python3.11/site-packages/tensorflow/python/eager/polymorphic_function/atomic_function.py:252\u001b[0m, in \u001b[0;36mAtomicFunction.__call__\u001b[0;34m(self, *args)\u001b[0m\n\u001b[1;32m    250\u001b[0m \u001b[39mwith\u001b[39;00m record\u001b[39m.\u001b[39mstop_recording():\n\u001b[1;32m    251\u001b[0m   \u001b[39mif\u001b[39;00m \u001b[39mself\u001b[39m\u001b[39m.\u001b[39m_bound_context\u001b[39m.\u001b[39mexecuting_eagerly():\n\u001b[0;32m--> 252\u001b[0m     outputs \u001b[39m=\u001b[39m \u001b[39mself\u001b[39m\u001b[39m.\u001b[39m_bound_context\u001b[39m.\u001b[39mcall_function(\n\u001b[1;32m    253\u001b[0m         \u001b[39mself\u001b[39m\u001b[39m.\u001b[39mname,\n\u001b[1;32m    254\u001b[0m         \u001b[39mlist\u001b[39m(args),\n\u001b[1;32m    255\u001b[0m         \u001b[39mlen\u001b[39m(\u001b[39mself\u001b[39m\u001b[39m.\u001b[39mfunction_type\u001b[39m.\u001b[39mflat_outputs),\n\u001b[1;32m    256\u001b[0m     )\n\u001b[1;32m    257\u001b[0m   \u001b[39melse\u001b[39;00m:\n\u001b[1;32m    258\u001b[0m     outputs \u001b[39m=\u001b[39m make_call_op_in_graph(\n\u001b[1;32m    259\u001b[0m         \u001b[39mself\u001b[39m,\n\u001b[1;32m    260\u001b[0m         \u001b[39mlist\u001b[39m(args),\n\u001b[1;32m    261\u001b[0m         \u001b[39mself\u001b[39m\u001b[39m.\u001b[39m_bound_context\u001b[39m.\u001b[39mfunction_call_options\u001b[39m.\u001b[39mas_attrs(),\n\u001b[1;32m    262\u001b[0m     )\n",
            "File \u001b[0;32m~/anaconda3/lib/python3.11/site-packages/tensorflow/python/eager/context.py:1479\u001b[0m, in \u001b[0;36mContext.call_function\u001b[0;34m(self, name, tensor_inputs, num_outputs)\u001b[0m\n\u001b[1;32m   1477\u001b[0m cancellation_context \u001b[39m=\u001b[39m cancellation\u001b[39m.\u001b[39mcontext()\n\u001b[1;32m   1478\u001b[0m \u001b[39mif\u001b[39;00m cancellation_context \u001b[39mis\u001b[39;00m \u001b[39mNone\u001b[39;00m:\n\u001b[0;32m-> 1479\u001b[0m   outputs \u001b[39m=\u001b[39m execute\u001b[39m.\u001b[39mexecute(\n\u001b[1;32m   1480\u001b[0m       name\u001b[39m.\u001b[39mdecode(\u001b[39m\"\u001b[39m\u001b[39mutf-8\u001b[39m\u001b[39m\"\u001b[39m),\n\u001b[1;32m   1481\u001b[0m       num_outputs\u001b[39m=\u001b[39mnum_outputs,\n\u001b[1;32m   1482\u001b[0m       inputs\u001b[39m=\u001b[39mtensor_inputs,\n\u001b[1;32m   1483\u001b[0m       attrs\u001b[39m=\u001b[39mattrs,\n\u001b[1;32m   1484\u001b[0m       ctx\u001b[39m=\u001b[39m\u001b[39mself\u001b[39m,\n\u001b[1;32m   1485\u001b[0m   )\n\u001b[1;32m   1486\u001b[0m \u001b[39melse\u001b[39;00m:\n\u001b[1;32m   1487\u001b[0m   outputs \u001b[39m=\u001b[39m execute\u001b[39m.\u001b[39mexecute_with_cancellation(\n\u001b[1;32m   1488\u001b[0m       name\u001b[39m.\u001b[39mdecode(\u001b[39m\"\u001b[39m\u001b[39mutf-8\u001b[39m\u001b[39m\"\u001b[39m),\n\u001b[1;32m   1489\u001b[0m       num_outputs\u001b[39m=\u001b[39mnum_outputs,\n\u001b[0;32m   (...)\u001b[0m\n\u001b[1;32m   1493\u001b[0m       cancellation_manager\u001b[39m=\u001b[39mcancellation_context,\n\u001b[1;32m   1494\u001b[0m   )\n",
            "File \u001b[0;32m~/anaconda3/lib/python3.11/site-packages/tensorflow/python/eager/execute.py:60\u001b[0m, in \u001b[0;36mquick_execute\u001b[0;34m(op_name, num_outputs, inputs, attrs, ctx, name)\u001b[0m\n\u001b[1;32m     53\u001b[0m   \u001b[39m# Convert any objects of type core_types.Tensor to Tensor.\u001b[39;00m\n\u001b[1;32m     54\u001b[0m   inputs \u001b[39m=\u001b[39m [\n\u001b[1;32m     55\u001b[0m       tensor_conversion_registry\u001b[39m.\u001b[39mconvert(t)\n\u001b[1;32m     56\u001b[0m       \u001b[39mif\u001b[39;00m \u001b[39misinstance\u001b[39m(t, core_types\u001b[39m.\u001b[39mTensor)\n\u001b[1;32m     57\u001b[0m       \u001b[39melse\u001b[39;00m t\n\u001b[1;32m     58\u001b[0m       \u001b[39mfor\u001b[39;00m t \u001b[39min\u001b[39;00m inputs\n\u001b[1;32m     59\u001b[0m   ]\n\u001b[0;32m---> 60\u001b[0m   tensors \u001b[39m=\u001b[39m pywrap_tfe\u001b[39m.\u001b[39mTFE_Py_Execute(ctx\u001b[39m.\u001b[39m_handle, device_name, op_name,\n\u001b[1;32m     61\u001b[0m                                       inputs, attrs, num_outputs)\n\u001b[1;32m     62\u001b[0m \u001b[39mexcept\u001b[39;00m core\u001b[39m.\u001b[39m_NotOkStatusException \u001b[39mas\u001b[39;00m e:\n\u001b[1;32m     63\u001b[0m   \u001b[39mif\u001b[39;00m name \u001b[39mis\u001b[39;00m \u001b[39mnot\u001b[39;00m \u001b[39mNone\u001b[39;00m:\n",
            "\u001b[0;31mKeyboardInterrupt\u001b[0m: "
          ]
        }
      ],
      "source": [
        "# Calculate the total number of training and validation samples\n",
        "num_train_samples = len(train_generator.filenames)  # total number of training samples\n",
        "num_val_samples = len(validation_generator.filenames)  # total number of validation samples\n",
        "\n",
        "history = model.fit_generator(\n",
        "    train_generator,\n",
        "    steps_per_epoch=num_train_samples // batch_size,\n",
        "    epochs=10,  # Train for additional epochs\n",
        "    validation_data=validation_generator,\n",
        "    validation_steps=num_val_samples // batch_size,\n",
        "    callbacks=[early_stopping,reduce_lr]\n",
        ")"
      ]
    },
    {
      "cell_type": "code",
      "execution_count": null,
      "metadata": {
        "id": "hNZVls8M7AYA"
      },
      "outputs": [],
      "source": [
        "import matplotlib.pyplot as plt\n",
        "# Extract training history\n",
        "training_loss = history.history['loss']\n",
        "validation_loss = history.history['val_loss']\n",
        "training_accuracy = history.history['accuracy']\n",
        "validation_accuracy = history.history['val_accuracy']\n",
        "\n",
        "# Create subplots for loss and accuracy\n",
        "plt.figure(figsize=(12, 4))\n",
        "\n",
        "# Plot training and validation loss\n",
        "plt.subplot(1, 2, 1)\n",
        "plt.plot(training_loss, label='Training Loss')\n",
        "plt.plot(validation_loss, label='Validation Loss')\n",
        "plt.xlabel('Epoch')\n",
        "plt.ylabel('Loss')\n",
        "plt.title('Loss Over Time')\n",
        "plt.legend()\n",
        "\n",
        "# Plot training and validation accuracy\n",
        "plt.subplot(1, 2, 2)\n",
        "plt.plot(training_accuracy, label='Training Accuracy')\n",
        "plt.plot(validation_accuracy, label='Validation Accuracy')\n",
        "plt.xlabel('Epoch')\n",
        "plt.ylabel('Accuracy')\n",
        "plt.title('Accuracy Over Time')\n",
        "plt.legend()\n",
        "\n",
        "# Show the plot\n",
        "plt.tight_layout()\n",
        "plt.show()\n"
      ]
    },
    {
      "cell_type": "code",
      "execution_count": null,
      "metadata": {
        "id": "35YEU7vx75i_"
      },
      "outputs": [],
      "source": [
        "model.save('/Users/tai/project for everything/hand_lang/extreme_dataset/extreme_model_10epoch')"
      ]
    },
    {
      "cell_type": "markdown",
      "metadata": {
        "id": "fwOrDhowrBoQ"
      },
      "source": [
        "# Load model and evaluate"
      ]
    },
    {
      "cell_type": "code",
      "execution_count": null,
      "metadata": {
        "id": "UIFtsi_jMTDL"
      },
      "outputs": [],
      "source": [
        "model = tf.keras.models.load_model('/Users/tai/project for everything/hand_lang/extreme_dataset/extreme_model_10epoch')"
      ]
    },
    {
      "cell_type": "code",
      "execution_count": null,
      "metadata": {
        "id": "C0kwIbYUNhM9"
      },
      "outputs": [],
      "source": [
        "evaluation = model.evaluate_generator(test_generator)\n",
        "\n",
        "# The evaluation result will contain the loss and metrics values\n",
        "loss = evaluation[0]\n",
        "accuracy = evaluation[1]\n",
        "\n",
        "print(f'Validation Loss: {loss:.4f}')\n",
        "print(f'Validation Accuracy: {accuracy * 100:.2f}%')"
      ]
    },
    {
      "cell_type": "code",
      "execution_count": 22,
      "metadata": {
        "id": "2rW65yyZ2tPK"
      },
      "outputs": [],
      "source": [
        "model = tf.keras.models.load_model('/content/drive/My Drive/hand_language_model/MobileNetV2_30epoch_with_finetune.h5')"
      ]
    },
    {
      "cell_type": "code",
      "execution_count": 23,
      "metadata": {
        "colab": {
          "base_uri": "https://localhost:8080/"
        },
        "id": "io2P9RUE2tMr",
        "outputId": "40114aab-9a96-4c09-a607-6ee41324cf56"
      },
      "outputs": [
        {
          "name": "stderr",
          "output_type": "stream",
          "text": [
            "<ipython-input-23-bf3fc3eda983>:1: UserWarning: `Model.evaluate_generator` is deprecated and will be removed in a future version. Please use `Model.evaluate`, which supports generators.\n",
            "  evaluation = model.evaluate_generator(test_generator)\n"
          ]
        },
        {
          "name": "stdout",
          "output_type": "stream",
          "text": [
            "Validation Loss: 0.0856\n",
            "Validation Accuracy: 98.10%\n"
          ]
        }
      ],
      "source": [
        "evaluation = model.evaluate_generator(test_generator)\n",
        "\n",
        "# The evaluation result will contain the loss and metrics values\n",
        "loss = evaluation[0]\n",
        "accuracy = evaluation[1]\n",
        "\n",
        "print(f'Validation Loss: {loss:.4f}')\n",
        "print(f'Validation Accuracy: {accuracy * 100:.2f}%')"
      ]
    },
    {
      "cell_type": "markdown",
      "metadata": {
        "id": "A6UWIFUxMk9v"
      },
      "source": [
        "# Model comparision"
      ]
    },
    {
      "cell_type": "code",
      "execution_count": null,
      "metadata": {
        "id": "NOOLwsLAjtlT"
      },
      "outputs": [],
      "source": [
        "# Load the training history from MOBILENETV2\n",
        "with open('/content/drive/MyDrive/hand_language_model/mobilenetv2_history.json', 'r') as history_file:\n",
        "    history_data = json.load(history_file)"
      ]
    },
    {
      "cell_type": "code",
      "execution_count": null,
      "metadata": {
        "colab": {
          "base_uri": "https://localhost:8080/",
          "height": 448
        },
        "id": "_zjdznhXdohV",
        "outputId": "29ce580b-72d7-4631-dfcc-ab0c99307249"
      },
      "outputs": [
        {
          "data": {
            "image/png": "[encoded data removed]",
            "text/plain": [
              "<Figure size 1200x500 with 2 Axes>"
            ]
          },
          "metadata": {},
          "output_type": "display_data"
        }
      ],
      "source": [
        "# Get the number of values per metric\n",
        "num_values_per_metric = len(history_data['loss'])\n",
        "\n",
        "# Calculate the number of epochs\n",
        "num_epochs = num_values_per_metric // 400  # Assuming 11 steps per epoch\n",
        "\n",
        "# Initialize lists to store average values\n",
        "average_training_loss = []\n",
        "average_training_accuracy = []\n",
        "average_validation_loss = []\n",
        "average_validation_accuracy = []\n",
        "\n",
        "# Calculate the average values for each epoch\n",
        "for epoch in range(num_epochs):\n",
        "    start_idx = epoch * 11\n",
        "    end_idx = start_idx + 11\n",
        "\n",
        "    epoch_training_loss = np.mean(history_data['loss'][start_idx:end_idx])\n",
        "    epoch_training_accuracy = np.mean(history_data['accuracy'][start_idx:end_idx])\n",
        "    epoch_validation_loss = np.mean(history_data['val_loss'][start_idx:end_idx])\n",
        "    epoch_validation_accuracy = np.mean(history_data['val_accuracy'][start_idx:end_idx])\n",
        "\n",
        "    average_training_loss.append(epoch_training_loss)\n",
        "    average_training_accuracy.append(epoch_training_accuracy)\n",
        "    average_validation_loss.append(epoch_validation_loss)\n",
        "    average_validation_accuracy.append(epoch_validation_accuracy)\n",
        "\n",
        "# Create plots for average loss and accuracy\n",
        "import matplotlib.pyplot as plt\n",
        "\n",
        "plt.figure(figsize=(12, 5))\n",
        "\n",
        "# Plot the average training and validation loss\n",
        "plt.subplot(1, 2, 1)\n",
        "plt.plot(average_training_loss, label='Average Training Loss')\n",
        "plt.plot(average_validation_loss, label='Average Validation Loss')\n",
        "plt.xlabel('Epoch')\n",
        "plt.ylabel('Loss')\n",
        "plt.legend()\n",
        "plt.title('Average Training and Validation Loss')\n",
        "\n",
        "# Plot the average training and validation accuracy\n",
        "plt.subplot(1, 2, 2)\n",
        "plt.plot(average_training_accuracy, label='Average Training Accuracy')\n",
        "plt.plot(average_validation_accuracy, label='Average Validation Accuracy')\n",
        "plt.xlabel('Epoch')\n",
        "plt.ylabel('Accuracy')\n",
        "plt.legend()\n",
        "plt.title('Average Training and Validation Accuracy')\n",
        "\n",
        "plt.tight_layout()\n",
        "plt.show()"
      ]
    },
    {
      "cell_type": "code",
      "execution_count": null,
      "metadata": {
        "id": "j6V67DQuiXO3"
      },
      "outputs": [],
      "source": []
    }
  ],
  "metadata": {
    "accelerator": "GPU",
    "colab": {
      "provenance": []
    },
    "kernelspec": {
      "display_name": "Python 3",
      "name": "python3"
    },
    "language_info": {
      "codemirror_mode": {
        "name": "ipython",
        "version": 3
      },
      "file_extension": ".py",
      "mimetype": "text/x-python",
      "name": "python",
      "nbconvert_exporter": "python",
      "pygments_lexer": "ipython3",
      "version": "3.11.5"
    }
  },
  "nbformat": 4,
  "nbformat_minor": 0
}
